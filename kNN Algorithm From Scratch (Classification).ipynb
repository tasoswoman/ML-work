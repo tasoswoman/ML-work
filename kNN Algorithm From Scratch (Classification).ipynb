{
 "cells": [
  {
   "cell_type": "markdown",
   "metadata": {},
   "source": [
    "# k-Nearest Neighbours | Algorithm From Scratch\n",
    "\n",
    "\n",
    "##### 1. Background\n",
    "k-Neatest Neighbours (kNN) is a popular algorithm that can be used for both classification and regression models. This algorithm assumes the following:\n",
    "- Assumption One: The distribution of our data is assumed to be Uniform\n",
    "- Assumption Two: Similar datapoints have the same class - i.e. points that lie close to one another in n-dimensional space have the same class\n",
    "\n",
    "This algorithm works by calculating the distance between points to verify which points are in close proximity to another. The 'k'-th number of closest points are then categorized as the 'k-nearest-neighbours' (Note: 'k' is specified by the end-user). \n",
    "\n",
    "For classification, the predicted target is the mode of the k-nearest-neighbours' targets. For regression, the predicted target is the mean of the k-nearest-neighbours' targets.\n",
    "\n",
    "\n",
    "##### 2. Algorithm Steps\n",
    "- Step 1: Specify 'k'\n",
    "- Step 2: Calculate the distance between the test point and all training points\n",
    "- Step 3: Arrange calculated distances in ascending order \n",
    "- Step 4: Select the first k-th number of points (points with the smallest distances)\n",
    "- Step 5: If Classification - Calculate target mode for the k-th number of points, Else - Calculate the target mean for the k-th number of points\n",
    "- Step 6: If Classification - Return mode target, Else - Return mean target"
   ]
  },
  {
   "cell_type": "markdown",
   "metadata": {},
   "source": [
    "##### 3. Loading Data\n",
    "For this notebook, we will be using the classic Iris dataset for classification"
   ]
  },
  {
   "cell_type": "code",
   "execution_count": 1,
   "metadata": {},
   "outputs": [],
   "source": [
    "#import libraries\n",
    "import numpy as np\n",
    "import pandas as pd\n",
    "import statistics "
   ]
  },
  {
   "cell_type": "code",
   "execution_count": 2,
   "metadata": {},
   "outputs": [
    {
     "data": {
      "text/html": [
       "<div>\n",
       "<style scoped>\n",
       "    .dataframe tbody tr th:only-of-type {\n",
       "        vertical-align: middle;\n",
       "    }\n",
       "\n",
       "    .dataframe tbody tr th {\n",
       "        vertical-align: top;\n",
       "    }\n",
       "\n",
       "    .dataframe thead th {\n",
       "        text-align: right;\n",
       "    }\n",
       "</style>\n",
       "<table border=\"1\" class=\"dataframe\">\n",
       "  <thead>\n",
       "    <tr style=\"text-align: right;\">\n",
       "      <th></th>\n",
       "      <th>sepal_length</th>\n",
       "      <th>sepal_width</th>\n",
       "      <th>petal_length</th>\n",
       "      <th>petal_width</th>\n",
       "      <th>species</th>\n",
       "    </tr>\n",
       "  </thead>\n",
       "  <tbody>\n",
       "    <tr>\n",
       "      <th>0</th>\n",
       "      <td>5.1</td>\n",
       "      <td>3.5</td>\n",
       "      <td>1.4</td>\n",
       "      <td>0.2</td>\n",
       "      <td>Iris-setosa</td>\n",
       "    </tr>\n",
       "    <tr>\n",
       "      <th>1</th>\n",
       "      <td>4.9</td>\n",
       "      <td>3.0</td>\n",
       "      <td>1.4</td>\n",
       "      <td>0.2</td>\n",
       "      <td>Iris-setosa</td>\n",
       "    </tr>\n",
       "    <tr>\n",
       "      <th>2</th>\n",
       "      <td>4.7</td>\n",
       "      <td>3.2</td>\n",
       "      <td>1.3</td>\n",
       "      <td>0.2</td>\n",
       "      <td>Iris-setosa</td>\n",
       "    </tr>\n",
       "    <tr>\n",
       "      <th>3</th>\n",
       "      <td>4.6</td>\n",
       "      <td>3.1</td>\n",
       "      <td>1.5</td>\n",
       "      <td>0.2</td>\n",
       "      <td>Iris-setosa</td>\n",
       "    </tr>\n",
       "    <tr>\n",
       "      <th>4</th>\n",
       "      <td>5.0</td>\n",
       "      <td>3.6</td>\n",
       "      <td>1.4</td>\n",
       "      <td>0.2</td>\n",
       "      <td>Iris-setosa</td>\n",
       "    </tr>\n",
       "  </tbody>\n",
       "</table>\n",
       "</div>"
      ],
      "text/plain": [
       "   sepal_length  sepal_width  petal_length  petal_width      species\n",
       "0           5.1          3.5           1.4          0.2  Iris-setosa\n",
       "1           4.9          3.0           1.4          0.2  Iris-setosa\n",
       "2           4.7          3.2           1.3          0.2  Iris-setosa\n",
       "3           4.6          3.1           1.5          0.2  Iris-setosa\n",
       "4           5.0          3.6           1.4          0.2  Iris-setosa"
      ]
     },
     "execution_count": 2,
     "metadata": {},
     "output_type": "execute_result"
    }
   ],
   "source": [
    "#import data\n",
    "data = pd.read_csv('iris.csv')\n",
    "\n",
    "#displaying first five rows\n",
    "data.head()"
   ]
  },
  {
   "cell_type": "markdown",
   "metadata": {},
   "source": [
    "The species (target) column is in string format. We will need to encode the target column. Additionally, the features have different measurement ranges. We will need to scale each feature such that they have similar ranges - This will be done using the MinMaxScaler function from Sklearn. This will scale the data down to values between 0 and 1. \n",
    "\n",
    "#### Reasoning:\n",
    "When calculating distances, it is important to ensure that your data has similar scales. If not, variables that have a large data range may result in larger distance differences, which can be misleading. Additionally, these features are weighted as having a higher importance."
   ]
  },
  {
   "cell_type": "code",
   "execution_count": 3,
   "metadata": {},
   "outputs": [],
   "source": [
    "#importing preprocessing tools\n",
    "from sklearn.preprocessing import LabelEncoder, MinMaxScaler\n",
    "encoder = LabelEncoder()\n",
    "scaler = MinMaxScaler()\n",
    "\n",
    "#encoding target\n",
    "data.species = encoder.fit_transform(data.species)"
   ]
  },
  {
   "cell_type": "markdown",
   "metadata": {},
   "source": [
    "We will need to first split our data into training and test sets before scaling. Scaling prior to the data split will result in data leakage. The training min and max values used for scaling will be used to transform the test data values to prevent data leakage. "
   ]
  },
  {
   "cell_type": "code",
   "execution_count": 4,
   "metadata": {},
   "outputs": [],
   "source": [
    "#splitting data into train and test\n",
    "from sklearn.model_selection import train_test_split\n",
    "\n",
    "X = data[data.columns[:-1]]\n",
    "y = data.species\n",
    "\n",
    "X_train, X_test, y_train, y_test = train_test_split(X,y, test_size=0.2, random_state=20)"
   ]
  },
  {
   "cell_type": "code",
   "execution_count": 5,
   "metadata": {},
   "outputs": [],
   "source": [
    "#scaling features to compute distances\n",
    "X_train = pd.DataFrame(scaler.fit_transform(X_train), columns=X_train.columns)\n",
    "X_test = pd.DataFrame(scaler.transform(X_test), columns=X_test.columns)\n",
    "\n",
    "#reset y index to match X_train & X_test\n",
    "y_train.index = X_train.index\n",
    "y_test.index = X_test.index"
   ]
  },
  {
   "cell_type": "markdown",
   "metadata": {},
   "source": [
    "##### 4. Writing Algorithm Functions"
   ]
  },
  {
   "cell_type": "code",
   "execution_count": 6,
   "metadata": {},
   "outputs": [],
   "source": [
    "#function to calculate the euclidian distance\n",
    "\n",
    "def euclidian_distance(X_train, X_test):\n",
    "    #create empty list to store all distances per feature\n",
    "    distances = []\n",
    "    \n",
    "    #loop through each X_test datapoint and calculate the distance between datapoint and X_train points\n",
    "    for i in range(len(X_test)):\n",
    "        obs = X_test.loc[i]\n",
    "        dist_sq_sum = 0\n",
    "        \n",
    "        for col in (X_train.columns):\n",
    "            #calculate squared distance between X_test point and all of X_train points per feature\n",
    "            dist_sq_sum += ((X_train[col] - obs[col])**2)\n",
    "            \n",
    "        #append distance to list    \n",
    "        distances.append(np.sqrt(dist_sq_sum))\n",
    "    return distances"
   ]
  },
  {
   "cell_type": "code",
   "execution_count": 7,
   "metadata": {},
   "outputs": [],
   "source": [
    "#function to predict values\n",
    "\n",
    "def predict(X_train, X_test, y_train, k):\n",
    "    #calculate distances and store in a dataframe\n",
    "    distances = pd.DataFrame(euclidian_distance(X_train, X_test))\n",
    "    distances.index = range(len(distances))\n",
    "    distances = distances.transpose()\n",
    "    \n",
    "    #calculate mode target for the nearest neighbours\n",
    "    mode = []\n",
    "    for col in distances.columns:\n",
    "        neighbours = distances[col].sort_values().index[0:k]\n",
    "        targets = []\n",
    "        for neighbour in neighbours:\n",
    "            targets.append(y_train.loc[neighbour])\n",
    "        mode.append(statistics.mode(targets))\n",
    "    mode = pd.Series(mode)\n",
    "    return mode"
   ]
  },
  {
   "cell_type": "markdown",
   "metadata": {},
   "source": [
    "##### 5. Testing Algorithm"
   ]
  },
  {
   "cell_type": "code",
   "execution_count": 8,
   "metadata": {},
   "outputs": [],
   "source": [
    "#predict classification for X_test with 5 nearest neighbours\n",
    "y_hat = predict(X_train, X_test, y_train, 3)"
   ]
  },
  {
   "cell_type": "code",
   "execution_count": 9,
   "metadata": {},
   "outputs": [],
   "source": [
    "#placing y_hat and y_test in a dataframe for easy comparison\n",
    "y_results = pd.DataFrame([y_hat,y_test]).transpose()\n",
    "y_results.columns = ['y_hat', 'y_test']"
   ]
  },
  {
   "cell_type": "code",
   "execution_count": 10,
   "metadata": {},
   "outputs": [
    {
     "data": {
      "text/html": [
       "<div>\n",
       "<style scoped>\n",
       "    .dataframe tbody tr th:only-of-type {\n",
       "        vertical-align: middle;\n",
       "    }\n",
       "\n",
       "    .dataframe tbody tr th {\n",
       "        vertical-align: top;\n",
       "    }\n",
       "\n",
       "    .dataframe thead th {\n",
       "        text-align: right;\n",
       "    }\n",
       "</style>\n",
       "<table border=\"1\" class=\"dataframe\">\n",
       "  <thead>\n",
       "    <tr style=\"text-align: right;\">\n",
       "      <th></th>\n",
       "      <th>y_hat</th>\n",
       "      <th>y_test</th>\n",
       "    </tr>\n",
       "  </thead>\n",
       "  <tbody>\n",
       "    <tr>\n",
       "      <th>0</th>\n",
       "      <td>0</td>\n",
       "      <td>0</td>\n",
       "    </tr>\n",
       "    <tr>\n",
       "      <th>1</th>\n",
       "      <td>1</td>\n",
       "      <td>1</td>\n",
       "    </tr>\n",
       "    <tr>\n",
       "      <th>2</th>\n",
       "      <td>1</td>\n",
       "      <td>1</td>\n",
       "    </tr>\n",
       "    <tr>\n",
       "      <th>3</th>\n",
       "      <td>2</td>\n",
       "      <td>2</td>\n",
       "    </tr>\n",
       "    <tr>\n",
       "      <th>4</th>\n",
       "      <td>1</td>\n",
       "      <td>1</td>\n",
       "    </tr>\n",
       "  </tbody>\n",
       "</table>\n",
       "</div>"
      ],
      "text/plain": [
       "   y_hat  y_test\n",
       "0      0       0\n",
       "1      1       1\n",
       "2      1       1\n",
       "3      2       2\n",
       "4      1       1"
      ]
     },
     "execution_count": 10,
     "metadata": {},
     "output_type": "execute_result"
    }
   ],
   "source": [
    "y_results.head()"
   ]
  },
  {
   "cell_type": "code",
   "execution_count": 11,
   "metadata": {},
   "outputs": [
    {
     "data": {
      "text/html": [
       "<div>\n",
       "<style scoped>\n",
       "    .dataframe tbody tr th:only-of-type {\n",
       "        vertical-align: middle;\n",
       "    }\n",
       "\n",
       "    .dataframe tbody tr th {\n",
       "        vertical-align: top;\n",
       "    }\n",
       "\n",
       "    .dataframe thead th {\n",
       "        text-align: right;\n",
       "    }\n",
       "</style>\n",
       "<table border=\"1\" class=\"dataframe\">\n",
       "  <thead>\n",
       "    <tr style=\"text-align: right;\">\n",
       "      <th></th>\n",
       "      <th>y_hat</th>\n",
       "      <th>y_test</th>\n",
       "    </tr>\n",
       "  </thead>\n",
       "  <tbody>\n",
       "    <tr>\n",
       "      <th>12</th>\n",
       "      <td>1</td>\n",
       "      <td>2</td>\n",
       "    </tr>\n",
       "    <tr>\n",
       "      <th>29</th>\n",
       "      <td>1</td>\n",
       "      <td>2</td>\n",
       "    </tr>\n",
       "  </tbody>\n",
       "</table>\n",
       "</div>"
      ],
      "text/plain": [
       "    y_hat  y_test\n",
       "12      1       2\n",
       "29      1       2"
      ]
     },
     "execution_count": 11,
     "metadata": {},
     "output_type": "execute_result"
    }
   ],
   "source": [
    "#displaying incorrectly predicted values\n",
    "y_results[y_results.y_hat != y_results.y_test]"
   ]
  },
  {
   "cell_type": "markdown",
   "metadata": {},
   "source": [
    "From the above, the kNN algorithm works quite well on the data with 2/30 (6.67%) misclassifications."
   ]
  },
  {
   "cell_type": "markdown",
   "metadata": {},
   "source": [
    "#### 6. Demonstration in 3-D Space"
   ]
  },
  {
   "cell_type": "code",
   "execution_count": 32,
   "metadata": {},
   "outputs": [],
   "source": [
    "#create a random matrix with uniform distribution\n",
    "np.random.seed(0)\n",
    "random_matrix = pd.DataFrame(np.random.uniform(0,1, size=(50,3)))\n",
    "\n",
    "#test point\n",
    "pt = [0.5,0.6,0.8]\n",
    "pt = pd.DataFrame(pt).transpose()"
   ]
  },
  {
   "cell_type": "code",
   "execution_count": 33,
   "metadata": {},
   "outputs": [],
   "source": [
    "#import libaries for plotting\n",
    "import matplotlib.pyplot as plt\n",
    "from mpl_toolkits.mplot3d import Axes3D"
   ]
  },
  {
   "cell_type": "code",
   "execution_count": 34,
   "metadata": {},
   "outputs": [],
   "source": [
    "#get 3 closest neighbours\n",
    "dist = pd.DataFrame(euclidian_distance(random_matrix, pt)).transpose().sort_values(0)\n",
    "knn_index = dist.index[0:3]\n",
    "knn = pd.DataFrame()\n",
    "\n",
    "kNN = []\n",
    "for i in range(3):\n",
    "    kNN.append(random_matrix.loc[knn_index[i]].to_list())\n",
    "    \n",
    "knn = knn.append(kNN)\n",
    "\n",
    "#drop neighbors from random_matrix\n",
    "random_matrix.drop(random_matrix.index[knn_index], inplace=True)"
   ]
  },
  {
   "cell_type": "code",
   "execution_count": 55,
   "metadata": {},
   "outputs": [
    {
     "data": {
      "image/png": "[encoded data removed]",
      "text/plain": [
       "<Figure size 720x576 with 1 Axes>"
      ]
     },
     "metadata": {
      "needs_background": "light"
     },
     "output_type": "display_data"
    }
   ],
   "source": [
    "#plot graph\n",
    "fig = plt.figure(figsize=(10,8))\n",
    "ax = fig.add_subplot(111, projection='3d')\n",
    "\n",
    "ax.scatter(random_matrix[0], random_matrix[1], random_matrix[2], color='green')\n",
    "ax.scatter(pt[0], pt[1], pt[2], color='purple')\n",
    "ax.scatter(knn[0], knn[1], knn[2], color='red')\n",
    "ax.legend(('Training Data', 'Test Point', '3-Nearest Neighbors'))\n",
    "ax.set_title('kNN Visual in 3D space', pad=20);"
   ]
  },
  {
   "cell_type": "markdown",
   "metadata": {},
   "source": [
    "The plot above demonstrates the nearest neighbours to our test point. The nearest neighbor is calculated using the euclidian distance. The mode of the targets for the red points will be predicted as the target for our test point (in purple)."
   ]
  }
 ],
 "metadata": {
  "kernelspec": {
   "display_name": "Python 3",
   "language": "python",
   "name": "python3"
  },
  "language_info": {
   "codemirror_mode": {
    "name": "ipython",
    "version": 3
   },
   "file_extension": ".py",
   "mimetype": "text/x-python",
   "name": "python",
   "nbconvert_exporter": "python",
   "pygments_lexer": "ipython3",
   "version": "3.7.6"
  }
 },
 "nbformat": 4,
 "nbformat_minor": 4
}
