{
 "cells": [
  {
   "cell_type": "markdown",
   "metadata": {},
   "source": [
    "## Naive Bayes & Mixed Data Types | Heart Disease Dataset\n",
    "\n",
    "\n",
    "##### 1. Background\n",
    "Naive Bayes is a binary classification algorithm, which is essentially based on Bayes Optimal Classifier, and Baye's Theorem. This algorithm is a generative learning algorithm, thus we compute $P(x|y)$ for each binary target value, such that the target with the highest probability is the output target.\n",
    "\n",
    "The function for predicting targets can be stated as: <br>\n",
    "$h(x) = argmax_y\\prod_{\\alpha=1}^{d}P(x_\\alpha|y)\\cdot P(y)$ \n",
    "<br>\n",
    "    \n",
    "Two things to note about this algorithm is that it assumes the following when computing $P(x|y)$:\n",
    "1. All features are treated as independent events. Thus the total probability is the product of each feature's probability: $P(A,B) = P(A)\\cdot P(B)$ , where $P(A)$, $P(B)$ are independent events.\n",
    "2. From the function $h(x)$ we can see that the probability is computed using a specified probability distribution. Naive Bayes assumes that the provided distribution models our data. Thus we must select a probability distribution that well represents our features.\n",
    "\n",
    "##### 2. Purpose of this Notebook\n",
    "The purpose of this notebook is to demonstrate how we can use Naive Bayes classifier when our features consist of different distribution types. \n",
    "##### 3. Notebook Scope\n",
    "As the purpose of this notebook is to primarily demonstrate how to work with mixed data distributions when using Naive Bayes classifier, no data manipulation and visualization will be conducted.\n",
    "\n",
    "##### 4. The Dataset\n",
    "We will use the Heart Disease public dataset from the 'UCI Machine Learning Repository', as it includes various different data types (https://archive.ics.uci.edu/ml/datasets/Heart+Disease). With this dataset we are seeking to predict whether a patient is at risk of heart disease. Targets with a value of 1 equate to 'heart disease present' and targets with a value of 0 equate to 'absence of heart disease.' \n"
   ]
  },
  {
   "cell_type": "code",
   "execution_count": 1,
   "metadata": {},
   "outputs": [],
   "source": [
    "#import relevant libraries\n",
    "import pandas as pd\n",
    "import numpy as np\n",
    "import matplotlib.pyplot as plt\n",
    "import seaborn as sns\n",
    "import warnings\n",
    "warnings.filterwarnings('ignore')"
   ]
  },
  {
   "cell_type": "code",
   "execution_count": 2,
   "metadata": {},
   "outputs": [
    {
     "data": {
      "text/html": [
       "<div>\n",
       "<style scoped>\n",
       "    .dataframe tbody tr th:only-of-type {\n",
       "        vertical-align: middle;\n",
       "    }\n",
       "\n",
       "    .dataframe tbody tr th {\n",
       "        vertical-align: top;\n",
       "    }\n",
       "\n",
       "    .dataframe thead th {\n",
       "        text-align: right;\n",
       "    }\n",
       "</style>\n",
       "<table border=\"1\" class=\"dataframe\">\n",
       "  <thead>\n",
       "    <tr style=\"text-align: right;\">\n",
       "      <th></th>\n",
       "      <th>age</th>\n",
       "      <th>sex</th>\n",
       "      <th>cp</th>\n",
       "      <th>trestbps</th>\n",
       "      <th>chol</th>\n",
       "      <th>fbs</th>\n",
       "      <th>restecg</th>\n",
       "      <th>thalach</th>\n",
       "      <th>exang</th>\n",
       "      <th>oldpeak</th>\n",
       "      <th>slope</th>\n",
       "      <th>ca</th>\n",
       "      <th>thal</th>\n",
       "      <th>target</th>\n",
       "    </tr>\n",
       "  </thead>\n",
       "  <tbody>\n",
       "    <tr>\n",
       "      <th>0</th>\n",
       "      <td>63</td>\n",
       "      <td>1</td>\n",
       "      <td>3</td>\n",
       "      <td>145</td>\n",
       "      <td>233</td>\n",
       "      <td>1</td>\n",
       "      <td>0</td>\n",
       "      <td>150</td>\n",
       "      <td>0</td>\n",
       "      <td>2.3</td>\n",
       "      <td>0</td>\n",
       "      <td>0</td>\n",
       "      <td>1</td>\n",
       "      <td>1</td>\n",
       "    </tr>\n",
       "    <tr>\n",
       "      <th>1</th>\n",
       "      <td>37</td>\n",
       "      <td>1</td>\n",
       "      <td>2</td>\n",
       "      <td>130</td>\n",
       "      <td>250</td>\n",
       "      <td>0</td>\n",
       "      <td>1</td>\n",
       "      <td>187</td>\n",
       "      <td>0</td>\n",
       "      <td>3.5</td>\n",
       "      <td>0</td>\n",
       "      <td>0</td>\n",
       "      <td>2</td>\n",
       "      <td>1</td>\n",
       "    </tr>\n",
       "    <tr>\n",
       "      <th>2</th>\n",
       "      <td>41</td>\n",
       "      <td>0</td>\n",
       "      <td>1</td>\n",
       "      <td>130</td>\n",
       "      <td>204</td>\n",
       "      <td>0</td>\n",
       "      <td>0</td>\n",
       "      <td>172</td>\n",
       "      <td>0</td>\n",
       "      <td>1.4</td>\n",
       "      <td>2</td>\n",
       "      <td>0</td>\n",
       "      <td>2</td>\n",
       "      <td>1</td>\n",
       "    </tr>\n",
       "    <tr>\n",
       "      <th>3</th>\n",
       "      <td>56</td>\n",
       "      <td>1</td>\n",
       "      <td>1</td>\n",
       "      <td>120</td>\n",
       "      <td>236</td>\n",
       "      <td>0</td>\n",
       "      <td>1</td>\n",
       "      <td>178</td>\n",
       "      <td>0</td>\n",
       "      <td>0.8</td>\n",
       "      <td>2</td>\n",
       "      <td>0</td>\n",
       "      <td>2</td>\n",
       "      <td>1</td>\n",
       "    </tr>\n",
       "    <tr>\n",
       "      <th>4</th>\n",
       "      <td>57</td>\n",
       "      <td>0</td>\n",
       "      <td>0</td>\n",
       "      <td>120</td>\n",
       "      <td>354</td>\n",
       "      <td>0</td>\n",
       "      <td>1</td>\n",
       "      <td>163</td>\n",
       "      <td>1</td>\n",
       "      <td>0.6</td>\n",
       "      <td>2</td>\n",
       "      <td>0</td>\n",
       "      <td>2</td>\n",
       "      <td>1</td>\n",
       "    </tr>\n",
       "  </tbody>\n",
       "</table>\n",
       "</div>"
      ],
      "text/plain": [
       "   age  sex  cp  trestbps  chol  fbs  restecg  thalach  exang  oldpeak  slope  \\\n",
       "0   63    1   3       145   233    1        0      150      0      2.3      0   \n",
       "1   37    1   2       130   250    0        1      187      0      3.5      0   \n",
       "2   41    0   1       130   204    0        0      172      0      1.4      2   \n",
       "3   56    1   1       120   236    0        1      178      0      0.8      2   \n",
       "4   57    0   0       120   354    0        1      163      1      0.6      2   \n",
       "\n",
       "   ca  thal  target  \n",
       "0   0     1       1  \n",
       "1   0     2       1  \n",
       "2   0     2       1  \n",
       "3   0     2       1  \n",
       "4   0     2       1  "
      ]
     },
     "execution_count": 2,
     "metadata": {},
     "output_type": "execute_result"
    }
   ],
   "source": [
    "#import data\n",
    "data = pd.read_csv('heartdisease.csv')\n",
    "\n",
    "#display first 5 rows\n",
    "data.head()"
   ]
  },
  {
   "cell_type": "code",
   "execution_count": 4,
   "metadata": {},
   "outputs": [
    {
     "data": {
      "text/html": [
       "<style>\n",
       "  table {float: left}\n",
       "</style>\n"
      ],
      "text/plain": [
       "<IPython.core.display.HTML object>"
      ]
     },
     "metadata": {},
     "output_type": "display_data"
    }
   ],
   "source": [
    "%%html\n",
    "<style>\n",
    "  table {float: left}\n",
    "</style>"
   ]
  },
  {
   "cell_type": "markdown",
   "metadata": {},
   "source": [
    "##### Explanation of Features\n",
    "\n",
    "|Feature | Data Type | Comments |\n",
    "|--|---|:---|\n",
    "|age |continuous |- |\n",
    "|sex |binary |- |\n",
    "|cp |categorical |chest pain type |\n",
    "|trestbps |continuous |resting blood pressure|\n",
    "|chol|continuous|cholestrol|\n",
    "|fbs|binary|fasting blood sugar > 120mg/dl|\n",
    "|restecg|categorical|resting electrocardiographic results|\n",
    "|thalach|continuous|max heart rate achieved\n",
    "|exang|binary|exercise induced angina|\n",
    "|oldpeak|continuous|ST depression induced by exercise relative to rest|\n",
    "|slope|categorical|slope of peak exercise ST segment\n",
    "|ca|discrete|number of major vessels colored by flouroscopy|\n",
    "|thal|categorical|thalassemia|"
   ]
  },
  {
   "cell_type": "markdown",
   "metadata": {},
   "source": [
    "From the table above we can see we have features from four different distributions. "
   ]
  },
  {
   "cell_type": "markdown",
   "metadata": {},
   "source": [
    "#### 5. Target Distribution"
   ]
  },
  {
   "cell_type": "code",
   "execution_count": 5,
   "metadata": {},
   "outputs": [
    {
     "data": {
      "text/plain": [
       "Text(0, 0.5, 'Count')"
      ]
     },
     "execution_count": 5,
     "metadata": {},
     "output_type": "execute_result"
    },
    {
     "data": {
      "image/png": "[encoded data removed]",
      "text/plain": [
       "<Figure size 432x288 with 1 Axes>"
      ]
     },
     "metadata": {
      "needs_background": "light"
     },
     "output_type": "display_data"
    }
   ],
   "source": [
    "#determining balance of targets\n",
    "sns.countplot(data.target)\n",
    "plt.title('Count by Target in Dataset')\n",
    "plt.xlabel('Target')\n",
    "plt.ylabel('Count')"
   ]
  },
  {
   "cell_type": "markdown",
   "metadata": {},
   "source": [
    "Our dataset is well balanced. Therefore we can continue without worrying about skewed results due to a biased dataset. "
   ]
  },
  {
   "cell_type": "markdown",
   "metadata": {},
   "source": [
    "##### 6. Continuous Variables\n",
    "We will now explore our continuous data. Since we are using the sklearn libary, we will use the GaussianNB to model our continous data. Let's ensure that our continuous features are approximately gaussian."
   ]
  },
  {
   "cell_type": "code",
   "execution_count": 6,
   "metadata": {},
   "outputs": [
    {
     "data": {
      "image/png": "[encoded data removed]",
      "text/plain": [
       "<Figure size 1152x576 with 6 Axes>"
      ]
     },
     "metadata": {
      "needs_background": "light"
     },
     "output_type": "display_data"
    }
   ],
   "source": [
    "#selecting continuous features\n",
    "continuous = ['age', 'trestbps', 'chol','thalach','oldpeak']\n",
    "\n",
    "#plotting distributions of continuous features\n",
    "fig, ax = plt.subplots(2,3)\n",
    "fig.set_figheight(8)\n",
    "fig.set_figwidth(16)\n",
    "\n",
    "i = 0\n",
    "n = 0\n",
    "\n",
    "while i < 2:      \n",
    "    j = 0\n",
    "    while j < 3:\n",
    "        if n == 5:\n",
    "            ax[1,2].axis('off')\n",
    "            break\n",
    "        data[continuous[n]].plot(kind='kde', ax=ax[i,j], title=continuous[n])\n",
    "        n+=1\n",
    "        j+=1\n",
    "    i+= 1"
   ]
  },
  {
   "cell_type": "markdown",
   "metadata": {},
   "source": [
    "The following can be noted about the above distribution plots:\n",
    "- age: approx. gaussian\n",
    "- trestbps: approx. gaussian, slightly skewed to the right\n",
    "- chol: approx. gaussian, skewed to the right\n",
    "- thalach: approx. gaussian, skewed to let\n",
    "- oldpeak: exponential distribution\n",
    "\n",
    "Let's adjust these distributions so that we get accurate results when modelling these features as gaussian distribution when computing $P(x|y)$ "
   ]
  },
  {
   "cell_type": "markdown",
   "metadata": {},
   "source": [
    "###### a. Oldpeak"
   ]
  },
  {
   "cell_type": "markdown",
   "metadata": {},
   "source": [
    "First, we will convert oldpeak into a categorical feature by placing the feature into bins."
   ]
  },
  {
   "cell_type": "code",
   "execution_count": 7,
   "metadata": {},
   "outputs": [],
   "source": [
    "#splitting oldpeak values into bins\n",
    "oldpeak_cat = pd.cut(data.oldpeak, bins=12)\n",
    "data['oldpeak_cat'] = oldpeak_cat\n",
    "\n",
    "#converting bins into categorical variables\n",
    "from sklearn.preprocessing import LabelEncoder\n",
    "le = LabelEncoder()\n",
    "data.oldpeak_cat = le.fit_transform(data.oldpeak_cat)\n",
    "data.drop('oldpeak', axis=1, inplace=True)"
   ]
  },
  {
   "cell_type": "markdown",
   "metadata": {},
   "source": [
    "###### b. Trestbps"
   ]
  },
  {
   "cell_type": "code",
   "execution_count": 8,
   "metadata": {},
   "outputs": [
    {
     "data": {
      "text/plain": [
       "<matplotlib.axes._subplots.AxesSubplot at 0x27f82ee4608>"
      ]
     },
     "execution_count": 8,
     "metadata": {},
     "output_type": "execute_result"
    },
    {
     "data": {
      "image/png": "[encoded data removed]",
      "text/plain": [
       "<Figure size 1008x216 with 1 Axes>"
      ]
     },
     "metadata": {
      "needs_background": "light"
     },
     "output_type": "display_data"
    }
   ],
   "source": [
    "#plot box plot for trestbps\n",
    "plt.figure(figsize=(14,3))\n",
    "sns.boxplot(data.trestbps)"
   ]
  },
  {
   "cell_type": "code",
   "execution_count": 9,
   "metadata": {},
   "outputs": [
    {
     "data": {
      "text/plain": [
       "(303, 14)"
      ]
     },
     "execution_count": 9,
     "metadata": {},
     "output_type": "execute_result"
    }
   ],
   "source": [
    "#checking shape of data\n",
    "data.shape"
   ]
  },
  {
   "cell_type": "markdown",
   "metadata": {},
   "source": [
    "I only have 303 observations, thus I am wary to drop observations that will minimize the dataset further. I will adjust the outliers such that they have a value of 165. This is reasonable, as a trestbps of 140 equates to High Blood Pressure, and a trestbps of 180 equates to Hypertensive Crisis. I am not bothered in the severity of one's heart disease, only whether a patient is at risk of having heart disease or not. Thus slightly lowering the trestbps for patients with exceptionally high blood pressure should not impact my results since the value it is being lowered to still falls into the range of having high blood pressure."
   ]
  },
  {
   "cell_type": "code",
   "execution_count": 10,
   "metadata": {},
   "outputs": [],
   "source": [
    "#reducing trestbps to 165\n",
    "data.trestbps[data.trestbps>165] = 165"
   ]
  },
  {
   "cell_type": "code",
   "execution_count": 11,
   "metadata": {},
   "outputs": [
    {
     "data": {
      "text/plain": [
       "<matplotlib.axes._subplots.AxesSubplot at 0x27f82d82dc8>"
      ]
     },
     "execution_count": 11,
     "metadata": {},
     "output_type": "execute_result"
    },
    {
     "data": {
      "image/png": "[encoded data removed]",
      "text/plain": [
       "<Figure size 1008x216 with 1 Axes>"
      ]
     },
     "metadata": {
      "needs_background": "light"
     },
     "output_type": "display_data"
    }
   ],
   "source": [
    "#plot box plot for trestbps\n",
    "plt.figure(figsize=(14,3))\n",
    "sns.boxplot(data.trestbps)"
   ]
  },
  {
   "cell_type": "markdown",
   "metadata": {},
   "source": [
    "Our trestbps feature now looks approximately gaussian."
   ]
  },
  {
   "cell_type": "markdown",
   "metadata": {},
   "source": [
    "##### c. Chol"
   ]
  },
  {
   "cell_type": "code",
   "execution_count": 12,
   "metadata": {},
   "outputs": [
    {
     "data": {
      "text/plain": [
       "<matplotlib.axes._subplots.AxesSubplot at 0x27f82e18e08>"
      ]
     },
     "execution_count": 12,
     "metadata": {},
     "output_type": "execute_result"
    },
    {
     "data": {
      "image/png": "[encoded data removed]",
      "text/plain": [
       "<Figure size 1008x216 with 1 Axes>"
      ]
     },
     "metadata": {
      "needs_background": "light"
     },
     "output_type": "display_data"
    }
   ],
   "source": [
    "#plot box plot for cholestrol\n",
    "plt.figure(figsize=(14,3))\n",
    "sns.boxplot(data.chol)"
   ]
  },
  {
   "cell_type": "markdown",
   "metadata": {},
   "source": [
    "Again, we have many outliers that I do not want to drop, so we will apply the same logic and reduce the value of outliers for cholestrol to 330 (High cholestrol is classified as >240). Again, this should not impact our classifier, as we are not looking for the severity of one's heart disease, just whether a patient is at risk or not. "
   ]
  },
  {
   "cell_type": "code",
   "execution_count": 13,
   "metadata": {},
   "outputs": [],
   "source": [
    "#reducing chol outliers to 330\n",
    "data.chol[data.chol > 350] = 350"
   ]
  },
  {
   "cell_type": "code",
   "execution_count": 14,
   "metadata": {},
   "outputs": [
    {
     "data": {
      "text/plain": [
       "<matplotlib.axes._subplots.AxesSubplot at 0x27f82e72148>"
      ]
     },
     "execution_count": 14,
     "metadata": {},
     "output_type": "execute_result"
    },
    {
     "data": {
      "image/png": "[encoded data removed]",
      "text/plain": [
       "<Figure size 1008x216 with 1 Axes>"
      ]
     },
     "metadata": {
      "needs_background": "light"
     },
     "output_type": "display_data"
    }
   ],
   "source": [
    "#plot box plot for cholestrol\n",
    "plt.figure(figsize=(14,3))\n",
    "sns.boxplot(data.chol)"
   ]
  },
  {
   "cell_type": "markdown",
   "metadata": {},
   "source": [
    "Our chol feature now looks approximately gaussian."
   ]
  },
  {
   "cell_type": "markdown",
   "metadata": {},
   "source": [
    "###### d. Thalach"
   ]
  },
  {
   "cell_type": "code",
   "execution_count": 15,
   "metadata": {},
   "outputs": [
    {
     "data": {
      "text/plain": [
       "<matplotlib.axes._subplots.AxesSubplot at 0x27f82c28708>"
      ]
     },
     "execution_count": 15,
     "metadata": {},
     "output_type": "execute_result"
    },
    {
     "data": {
      "image/png": "[encoded data removed]",
      "text/plain": [
       "<Figure size 1008x216 with 1 Axes>"
      ]
     },
     "metadata": {
      "needs_background": "light"
     },
     "output_type": "display_data"
    }
   ],
   "source": [
    "#plotting box plot for the max heart rate achieved\n",
    "plt.figure(figsize=(14,3))\n",
    "sns.boxplot(data.thalach)"
   ]
  },
  {
   "cell_type": "markdown",
   "metadata": {},
   "source": [
    "Our feature is skewed to the left. We will apply the same logic and adjust outliers."
   ]
  },
  {
   "cell_type": "code",
   "execution_count": 16,
   "metadata": {},
   "outputs": [
    {
     "data": {
      "text/plain": [
       "54.366336633663366"
      ]
     },
     "execution_count": 16,
     "metadata": {},
     "output_type": "execute_result"
    }
   ],
   "source": [
    "#finding the average age for our data\n",
    "data.age.mean()"
   ]
  },
  {
   "cell_type": "markdown",
   "metadata": {},
   "source": [
    "For a 54 year old, the average heart rate for weight control activity is between 99bpm. So we will set outliers at 99bpm."
   ]
  },
  {
   "cell_type": "code",
   "execution_count": 17,
   "metadata": {},
   "outputs": [],
   "source": [
    "#raising upliers to 91bpm\n",
    "data.thalach[data.thalach < 99] = 99"
   ]
  },
  {
   "cell_type": "code",
   "execution_count": 18,
   "metadata": {},
   "outputs": [
    {
     "data": {
      "text/plain": [
       "<matplotlib.axes._subplots.AxesSubplot at 0x27f83165ec8>"
      ]
     },
     "execution_count": 18,
     "metadata": {},
     "output_type": "execute_result"
    },
    {
     "data": {
      "image/png": "[encoded data removed]",
      "text/plain": [
       "<Figure size 1008x216 with 1 Axes>"
      ]
     },
     "metadata": {
      "needs_background": "light"
     },
     "output_type": "display_data"
    }
   ],
   "source": [
    "#plotting box plot for the max heart rate achieved\n",
    "plt.figure(figsize=(14,3))\n",
    "sns.boxplot(data.thalach)"
   ]
  },
  {
   "cell_type": "markdown",
   "metadata": {},
   "source": [
    "Our plot is still skewed to the left. However, it is still more gaussian than it originally was."
   ]
  },
  {
   "cell_type": "markdown",
   "metadata": {},
   "source": [
    "#### 7. Modelling Our Data"
   ]
  },
  {
   "cell_type": "markdown",
   "metadata": {},
   "source": [
    "Our dataset has features with four different data types:\n",
    "- Continuous\n",
    "- Discrete\n",
    "- Categorical\n",
    "- Multinomial\n",
    "\n",
    "Thus, we will have to compute probabilities using Naive Bayes for each distribution seperately.\n",
    "\n",
    "What will we do next? Since Naive Bayes makes the assumption that all features are considered independent, we can compute the total probability $P(x|y)$ by taking the product of the probabilities rendered from each distribution type:\n",
    "\n",
    "$P(x|y) = P(x_{gaussian}|y) \\cdot P(x_{categorical}|y) \\cdot P(x_{multinomial}|y) \\cdot P(x_{bernoulli}|y)$\n",
    "\n",
    "We can then train our model using total probability values and the Gaussian Naive Bayes algorithm (since our probabilities are continuous and assumed to be gaussian) to make predictions."
   ]
  },
  {
   "cell_type": "code",
   "execution_count": 19,
   "metadata": {},
   "outputs": [],
   "source": [
    "#importing and instantiating Naive Bayes algorithms\n",
    "\n",
    "from sklearn.naive_bayes import GaussianNB, MultinomialNB, CategoricalNB, BernoulliNB\n",
    "\n",
    "g_NB = GaussianNB()\n",
    "m_NB = MultinomialNB()\n",
    "cat_NB = CategoricalNB()\n",
    "bern_NB = BernoulliNB()"
   ]
  },
  {
   "cell_type": "code",
   "execution_count": 20,
   "metadata": {},
   "outputs": [],
   "source": [
    "#splitting our data into a training and test set\n",
    "from sklearn.model_selection import train_test_split\n",
    "\n",
    "y = data.target\n",
    "X = data.drop('target', axis=1)\n",
    "\n",
    "X_train, X_test, y_train, y_test = train_test_split(X, y, test_size=0.2)"
   ]
  },
  {
   "cell_type": "code",
   "execution_count": 22,
   "metadata": {},
   "outputs": [],
   "source": [
    "#seperating our features by data-type\n",
    "continuous = ['age', 'trestbps', 'chol','thalach']\n",
    "discrete = ['ca']\n",
    "categorical = ['cp','restecg','slope','thal','oldpeak_cat']\n",
    "binary = ['sex','fbs','exang']"
   ]
  },
  {
   "cell_type": "code",
   "execution_count": 23,
   "metadata": {},
   "outputs": [
    {
     "data": {
      "text/plain": [
       "BernoulliNB(alpha=1.0, binarize=0.0, class_prior=None, fit_prior=True)"
      ]
     },
     "execution_count": 23,
     "metadata": {},
     "output_type": "execute_result"
    }
   ],
   "source": [
    "#training our NB models\n",
    "g_NB.fit(X_train[continuous], y_train)\n",
    "m_NB.fit(X_train[discrete], y_train)\n",
    "cat_NB.fit(X_train[categorical], y_train)\n",
    "bern_NB.fit(X_train[binary], y_train)"
   ]
  },
  {
   "cell_type": "markdown",
   "metadata": {},
   "source": [
    "We need to set up the final Gaussian Naive Bayes model that we will use for final classification. The input to this model will be the probabilities from our trained models.\n",
    "\n",
    "Note: We will be using the log probabilities. This is because mutliplying small numbers (probabilities) by one another results in even smaller numbers that are harder to seperate. Thus we want our values as large as possible so that the final product can be more easily distinguishable."
   ]
  },
  {
   "cell_type": "code",
   "execution_count": 24,
   "metadata": {},
   "outputs": [],
   "source": [
    "#getting the probabilities for our training set\n",
    "g_log_probs = g_NB.predict_log_proba(X_train[continuous])\n",
    "m_log_probs = m_NB.predict_log_proba(X_train[discrete])\n",
    "cat_log_probs = cat_NB.predict_log_proba(X_train[categorical])\n",
    "bern_log_probs = bern_NB.predict_log_proba(X_train[binary])"
   ]
  },
  {
   "cell_type": "code",
   "execution_count": 25,
   "metadata": {},
   "outputs": [],
   "source": [
    "#computing the probabilities by taking the product of all probabilities\n",
    "prob = g_log_probs * m_log_probs * cat_log_probs * bern_log_probs"
   ]
  },
  {
   "cell_type": "code",
   "execution_count": 26,
   "metadata": {},
   "outputs": [
    {
     "data": {
      "text/plain": [
       "GaussianNB(priors=None, var_smoothing=1e-09)"
      ]
     },
     "execution_count": 26,
     "metadata": {},
     "output_type": "execute_result"
    }
   ],
   "source": [
    "#training final gaussian model\n",
    "g_final_NB = GaussianNB()\n",
    "g_final_NB.fit(prob, y_train)"
   ]
  },
  {
   "cell_type": "markdown",
   "metadata": {},
   "source": [
    "##### 8. Testing the Model"
   ]
  },
  {
   "cell_type": "code",
   "execution_count": 27,
   "metadata": {},
   "outputs": [],
   "source": [
    "#getting the probabilities for our test set\n",
    "g_log_probs_test = g_NB.predict_log_proba(X_test[continuous])\n",
    "m_log_probs_test = m_NB.predict_log_proba(X_test[discrete])\n",
    "cat_log_probs_test = cat_NB.predict_log_proba(X_test[categorical])\n",
    "bern_log_probs_test = bern_NB.predict_log_proba(X_test[binary])"
   ]
  },
  {
   "cell_type": "code",
   "execution_count": 28,
   "metadata": {},
   "outputs": [],
   "source": [
    "#computing the probabilities by taking the product of all probabilities\n",
    "prob_test = g_log_probs_test * m_log_probs_test * cat_log_probs_test * bern_log_probs_test"
   ]
  },
  {
   "cell_type": "code",
   "execution_count": 29,
   "metadata": {},
   "outputs": [],
   "source": [
    "#classifying test data\n",
    "y_hat = g_final_NB.predict(prob_test)"
   ]
  },
  {
   "cell_type": "code",
   "execution_count": 30,
   "metadata": {},
   "outputs": [
    {
     "data": {
      "text/plain": [
       "<matplotlib.axes._subplots.AxesSubplot at 0x27f832d2fc8>"
      ]
     },
     "execution_count": 30,
     "metadata": {},
     "output_type": "execute_result"
    },
    {
     "data": {
      "image/png": "[encoded data removed]",
      "text/plain": [
       "<Figure size 432x288 with 2 Axes>"
      ]
     },
     "metadata": {
      "needs_background": "light"
     },
     "output_type": "display_data"
    }
   ],
   "source": [
    "#evaluating our model\n",
    "from sklearn.metrics import confusion_matrix, classification_report\n",
    "sns.heatmap(confusion_matrix(y_test, y_hat), annot=True)"
   ]
  },
  {
   "cell_type": "code",
   "execution_count": 37,
   "metadata": {
    "scrolled": true
   },
   "outputs": [
    {
     "name": "stdout",
     "output_type": "stream",
     "text": [
      "              precision    recall  f1-score   support\n",
      "\n",
      "           0       0.82      0.72      0.77        25\n",
      "           1       0.82      0.89      0.85        36\n",
      "\n",
      "    accuracy                           0.82        61\n",
      "   macro avg       0.82      0.80      0.81        61\n",
      "weighted avg       0.82      0.82      0.82        61\n",
      "\n"
     ]
    }
   ],
   "source": [
    "print(classification_report(y_test, y_hat))"
   ]
  },
  {
   "cell_type": "markdown",
   "metadata": {},
   "source": [
    "The weighted F1-score for this model is 0.82, this can be improved upon by experimenting with other algorithms, including more features, using a larger dataset, and so forth. The model predicted 7 false positives, and 4 false negatives. Having false positives is not a major concern for this model as the patient can undergo tests to identify that there are no abnormalities. However, false negatives are of concern as the patient can be identified as a low risk patient when they are in fact at high risk - resulting in a lack of treatment for their risk level and condition. That being said, our recall value is 0.89, which is fairly okay for this scenario, and could be improved through trying different algorithms to model our dataset. As the scope of this notebook was to demonstrate how to use Naive Bayes with different data distributions, we will not explore other algorithms in this specific notebook."
   ]
  }
 ],
 "metadata": {
  "kernelspec": {
   "display_name": "Python 3",
   "language": "python",
   "name": "python3"
  },
  "language_info": {
   "codemirror_mode": {
    "name": "ipython",
    "version": 3
   },
   "file_extension": ".py",
   "mimetype": "text/x-python",
   "name": "python",
   "nbconvert_exporter": "python",
   "pygments_lexer": "ipython3",
   "version": "3.7.6"
  }
 },
 "nbformat": 4,
 "nbformat_minor": 4
}
